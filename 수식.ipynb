{
  "nbformat": 4,
  "nbformat_minor": 0,
  "metadata": {
    "colab": {
      "name": "수식.ipynb",
      "provenance": [],
      "authorship_tag": "ABX9TyNhD+OpD/timZ9pc8hepQB3",
      "include_colab_link": true
    },
    "kernelspec": {
      "name": "python3",
      "display_name": "Python 3"
    },
    "language_info": {
      "name": "python"
    }
  },
  "cells": [
    {
      "cell_type": "markdown",
      "metadata": {
        "id": "view-in-github",
        "colab_type": "text"
      },
      "source": [
        "<a href=\"https://colab.research.google.com/github/MunJeongHyeon/bigdata_analysis/blob/main/%EC%88%98%EC%8B%9D.ipynb\" target=\"_parent\"><img src=\"https://colab.research.google.com/assets/colab-badge.svg\" alt=\"Open In Colab\"/></a>"
      ]
    },
    {
      "cell_type": "markdown",
      "metadata": {
        "id": "cRBrbX9uYQMN"
      },
      "source": [
        "## 수학 기호 연습\n",
        "\n",
        "근의 공식\n",
        "\n",
        "$$ax^2+bx+c = 0$$\n",
        "\n",
        "#$x = {-b \\pm \\sqrt{b^2-4ac} \\over 2a}$\n"
      ]
    },
    {
      "cell_type": "markdown",
      "metadata": {
        "id": "DsI7fSIzafDy"
      },
      "source": [
        "미분\n",
        "\n",
        "$$\\frac{df(x)}{dx} = \\lim_{x\\to0} \\frac{f(x+h)-f(x)}{h}$$"
      ]
    },
    {
      "cell_type": "markdown",
      "metadata": {
        "id": "96jZaZVgalem"
      },
      "source": [
        "로그\n",
        "\n",
        "$$x=a^{y} \\Longleftrightarrow y=log_{a}{x}$$"
      ]
    }
  ]
}